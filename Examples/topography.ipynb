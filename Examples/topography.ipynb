{
 "cells": [
  {
   "cell_type": "code",
   "execution_count": null,
   "metadata": {},
   "outputs": [],
   "source": [
    "from ipywidgets import FloatSlider, link, FloatRangeSlider\n",
    "\n",
    "from odysis import Scene, Mesh, Warp, Clip"
   ]
  },
  {
   "cell_type": "code",
   "execution_count": null,
   "metadata": {},
   "outputs": [],
   "source": [
    "example_mesh = Mesh.from_vtk('fastscapelib_topography/Topography0000133.vtk')"
   ]
  },
  {
   "cell_type": "code",
   "execution_count": null,
   "metadata": {},
   "outputs": [],
   "source": [
    "scene = Scene(mesh=example_mesh)\n",
    "scene"
   ]
  },
  {
   "cell_type": "code",
   "execution_count": null,
   "metadata": {},
   "outputs": [],
   "source": [
    "clip = Clip()\n",
    "scene.add(clip)"
   ]
  },
  {
   "cell_type": "code",
   "execution_count": null,
   "metadata": {},
   "outputs": [],
   "source": [
    "clip_slider = FloatSlider(description='Clip position', value=clip.plane_position, min=-5000, max=5000)\n",
    "link((clip_slider, 'value'), (clip, 'plane_position'))\n",
    "clip_slider"
   ]
  },
  {
   "cell_type": "code",
   "execution_count": null,
   "metadata": {},
   "outputs": [],
   "source": [
    "warp = Warp(input_components=[0, 0, 'X1'])\n",
    "clip.add(warp)"
   ]
  },
  {
   "cell_type": "code",
   "execution_count": null,
   "metadata": {},
   "outputs": [],
   "source": [
    "warp_slider = FloatSlider(description='Warp factor', value=warp.factor, min=-20, max=20)\n",
    "link((warp_slider, 'value'), (warp, 'factor'))\n",
    "warp_slider"
   ]
  },
  {
   "cell_type": "code",
   "execution_count": null,
   "metadata": {},
   "outputs": [],
   "source": [
    "colormapslider = FloatRangeSlider(\n",
    "    value=[warp.colormap_min, warp.colormap_max], \n",
    "    min=warp.colormap_min, \n",
    "    max=warp.colormap_max,\n",
    "    description=\"Colormap\"\n",
    ")\n",
    "\n",
    "def on_range_change(change):\n",
    "    warp.colormap_min = change['new'][0]\n",
    "    warp.colormap_max = change['new'][1]\n",
    "\n",
    "colormapslider.observe(on_range_change, 'value')\n",
    "colormapslider"
   ]
  }
 ],
 "metadata": {
  "kernelspec": {
   "display_name": "Python 3",
   "language": "python",
   "name": "python3"
  },
  "language_info": {
   "codemirror_mode": {
    "name": "ipython",
    "version": 3
   },
   "file_extension": ".py",
   "mimetype": "text/x-python",
   "name": "python",
   "nbconvert_exporter": "python",
   "pygments_lexer": "ipython3",
   "version": "3.7.1"
  }
 },
 "nbformat": 4,
 "nbformat_minor": 2
}
