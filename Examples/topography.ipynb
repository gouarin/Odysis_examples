{
 "cells": [
  {
   "cell_type": "code",
   "execution_count": null,
   "metadata": {},
   "outputs": [],
   "source": [
    "from ipywidgets import FloatSlider, link, FloatRangeSlider\n",
    "\n",
    "from odysis import scene, Mesh, plot, clip"
   ]
  },
  {
   "cell_type": "code",
   "execution_count": null,
   "metadata": {},
   "outputs": [],
   "source": [
    "mesh = Mesh.from_vtk('fastscapelib_topography/Topography0000133.vtk')"
   ]
  },
  {
   "cell_type": "code",
   "execution_count": null,
   "metadata": {},
   "outputs": [],
   "source": [
    "scene(mesh=mesh)\n",
    "branch = clip().warp(factor=3, input_components=[0, 0, 'X1'])\n",
    "plot()"
   ]
  },
  {
   "cell_type": "code",
   "execution_count": null,
   "metadata": {},
   "outputs": [],
   "source": [
    "colormapslider = FloatRangeSlider(\n",
    "    value=[branch.colormap_min, branch.colormap_max], \n",
    "    min=branch.colormap_min, \n",
    "    max=branch.colormap_max,\n",
    "    description=\"Colormap\"\n",
    ")\n",
    "\n",
    "def on_range_change(change):\n",
    "    branch.colormap_min = change['new'][0]\n",
    "    branch.colormap_max = change['new'][1]\n",
    "\n",
    "colormapslider.observe(on_range_change, 'value')\n",
    "colormapslider"
   ]
  }
 ],
 "metadata": {
  "kernelspec": {
   "display_name": "Python 3",
   "language": "python",
   "name": "python3"
  },
  "language_info": {
   "codemirror_mode": {
    "name": "ipython",
    "version": 3
   },
   "file_extension": ".py",
   "mimetype": "text/x-python",
   "name": "python",
   "nbconvert_exporter": "python",
   "pygments_lexer": "ipython3",
   "version": "3.7.1"
  }
 },
 "nbformat": 4,
 "nbformat_minor": 2
}
